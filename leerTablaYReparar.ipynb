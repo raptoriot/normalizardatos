{
 "cells": [
  {
   "cell_type": "markdown",
   "metadata": {
    "collapsed": true,
    "pycharm": {
     "name": "#%% md\n"
    }
   },
   "source": [
    "Primer paso es leer BD del servidor donde se tenga la tabla de los pesometros antiguos con problemas.\n",
    "En este caso es el servidor de google"
   ]
  },
  {
   "cell_type": "code",
   "execution_count": 14,
   "metadata": {
    "pycharm": {
     "name": "#%%\n",
     "is_executing": false
    }
   },
   "outputs": [
    {
     "name": "stdout",
     "text": [
      "conexion a gc\ncamiones_reg\ncargador_reg\npesometroreparado\npesometros\n \n"
     ],
     "output_type": "stream"
    }
   ],
   "source": [
    "import mysql.connector\n",
    "import time\n",
    "import matplotlib.pyplot as plt\n",
    "from matplotlib.dates import DateFormatter\n",
    "\n",
    "\n",
    "db = mysql.connector.connect(host=\"35.198.8.176\",user=\"alvarov\",passwd=\"lata5comprar\",db=\"bsa_loblanco\",charset = \"utf8\" )        # el nombre de la base de datos\n",
    "#analisisBDInaplast\n",
    "cur = db.cursor()\n",
    "print(\"conexion a gc\")\n",
    "consulta=\"SHOW TABLES\"\n",
    "cur.execute(consulta)\n",
    "for row in cur.fetchall():\n",
    "    print (str(row[0]))\n",
    "print (\" \")\n"
   ]
  },
  {
   "cell_type": "markdown",
   "source": [
    "Los datos en bruto estan en la tabla pesometro columna acc1 pesometro integral y acc2 pesometro grava 3/4.\n",
    "row[1]=fecha, row[5]=integral, row[6]=grava3/4"
   ],
   "metadata": {
    "collapsed": false,
    "pycharm": {
     "name": "#%% md\n"
    }
   }
  },
  {
   "cell_type": "code",
   "execution_count": 15,
   "outputs": [
    {
     "name": "stdout",
     "text": [
      "id\nfecha\ntph1\ntph2\ntph3\nacc1\nacc2\nacc3\ndiff1\ndiff2\ndiff3\n \n"
     ],
     "output_type": "stream"
    }
   ],
   "source": [
    "consulta=\"DESCRIBE pesometros\"\n",
    "cur.execute(consulta)\n",
    "for row in cur.fetchall():\n",
    "    print (str(row[0]))\n",
    "print (\" \")\n"
   ],
   "metadata": {
    "collapsed": false,
    "pycharm": {
     "name": "#%%\n",
     "is_executing": false
    }
   }
  },
  {
   "cell_type": "markdown",
   "source": [
    "vamos a leer el primer y ultimo registro de la tabla pesometro, en la consulta anterior se muestran los nombre de las columnas\n"
   ],
   "metadata": {
    "collapsed": false,
    "pycharm": {
     "name": "#%% md\n"
    }
   }
  },
  {
   "cell_type": "code",
   "execution_count": 25,
   "outputs": [
    {
     "name": "stdout",
     "text": [
      "conexion a gc\nSELECT * FROM pesometros WHERE fecha >= '2019-08-07 08:00:03'ORDER BY id ASC LIMIT 1\nEl primer registro de la consulta \n54159986 2019-08-07 19:20:13 -1 -1\n \nEl ultimo registro de la consulta \n54314731 2019-08-16 22:45:07 0 0\n \n"
     ],
     "output_type": "stream"
    }
   ],
   "source": [
    "db = mysql.connector.connect(host=\"35.198.8.176\",user=\"alvarov\",passwd=\"lata5comprar\",db=\"bsa_loblanco\",charset = \"utf8\" )        # el nombre de la base de datos\n",
    "#analisisBDInaplast\n",
    "cur = db.cursor()\n",
    "print(\"conexion a gc\")\n",
    "\n",
    "integralx=[]\n",
    "gravax=[]\n",
    "fechaIni=\"'2019-08-07 08:00:03'\"\n",
    "fechaFin=\"'2019-08-16 22:47:00'\" \n",
    "#consula\n",
    "tabla=\"pesometros\"\n",
    "consulta=\"SELECT * FROM \"+tabla+\" WHERE fecha >= \"+fechaIni+ \"ORDER BY id ASC LIMIT 1\"\n",
    "print(consulta)\n",
    "cur.execute(consulta)\n",
    "print (\"El primer registro de la consulta \")\n",
    "for row in cur.fetchall():\n",
    "     print (str(row[0]) + \" \" +str(row[1])+\" \"+str(row[2]) + \" \" +str(row[3]))\n",
    "     integralx.append(row[5])\n",
    "     gravax.append(row[6])\n",
    "print (\" \")\n",
    "print (\"El ultimo registro de la consulta \")\n",
    "tabla=\"pesometros\"\n",
    "consulta=\"SELECT * FROM \"+tabla+\" WHERE fecha <= \"+fechaFin+ \"ORDER BY id DESC LIMIT 1\"\n",
    "cur.execute(consulta)\n",
    "for row in cur.fetchall():\n",
    "     print (str(row[0]) + \" \" +str(row[1])+\" \"+str(row[2]) + \" \" +str(row[3]))\n",
    "     integralx.append(row[5])\n",
    "     gravax.append(row[6])\n",
    "print (\" \")\n"
   ],
   "metadata": {
    "collapsed": false,
    "pycharm": {
     "name": "#%%\n",
     "is_executing": false
    }
   }
  },
  {
   "cell_type": "markdown",
   "source": [
    "Ahora vamos a reparar los datos\n"
   ],
   "metadata": {
    "collapsed": false,
    "pycharm": {
     "name": "#%% md\n"
    }
   }
  },
  {
   "cell_type": "code",
   "execution_count": 27,
   "outputs": [
    {
     "name": "stdout",
     "text": [
      "conexion a gc\nselect * FROM pesometros WHERE fecha between '2019-08-07 08:00:03' and '2019-08-16 22:47:00' \n[254724709600, 265377798100]\n[84099887700, 87408469800]\n"
     ],
     "output_type": "stream"
    }
   ],
   "source": [
    "db = mysql.connector.connect(host=\"35.198.8.176\",user=\"alvarov\",passwd=\"lata5comprar\",db=\"bsa_loblanco\",charset = \"utf8\" )        # el nombre de la base de datos\n",
    "#analisisBDInaplast\n",
    "cur = db.cursor()\n",
    "print(\"conexion a gc\")\n",
    "fechaIni=\"'2019-08-07 08:00:03'\"\n",
    "fechaFin=\"'2019-08-16 22:47:00'\" \n",
    "#consula\n",
    "tabla=\"pesometros\"\n",
    "\n",
    "integral=[]\n",
    "grava=[]\n",
    "restaint=integralx[0]\n",
    "restagrav=gravax[0]\n",
    "consulta=\"select * FROM \"+tabla+\" WHERE fecha between \"+fechaIni+\" and \"+fechaFin+\" \"  \n",
    "print(consulta)\n",
    "cur.execute(consulta)\n",
    "\n",
    "anteriorint=0  # registro anterior de la base antigua\n",
    "anteriorgrav=0\n",
    "contador=0\n",
    "print(integralx)\n",
    "print(gravax)\n",
    "\n"
   ],
   "metadata": {
    "collapsed": false,
    "pycharm": {
     "name": "#%%\n",
     "is_executing": false
    }
   }
  },
  {
   "cell_type": "code",
   "execution_count": null,
   "outputs": [],
   "source": [
    "print(\"vamos a comenzar la revision e insercion\")\n",
    "consulta=\"select * FROM \"+tabla+\" WHERE fecha between \"+fechaIni+\" and \"+fechaFin+\" \"  \n",
    "print(consulta)\n",
    "cur.execute(consulta)\n",
    "\n",
    "anteriorint=0  # registro anterior de la base antigua\n",
    "anteriorgrav=0\n",
    "contador=0\n",
    "print(integralx)\n",
    "print(gravax)\n",
    "\n",
    "\n",
    "for row in cur.fetchall():\n",
    "     #print (str(row[0]) + \" \" +str(row[1])+\" \"+str(row[2]) + \" \" +str(row[3]))\n",
    "    if contador==0:\n",
    "         anteriorint=row[5]\n",
    "         anteriorgrav=row[6]\n",
    "         anteriorintsql=0\n",
    "         anteriorgravasql=0\n",
    "    if row[5]-anteriorint>30:\n",
    "\n",
    "        print(\"entro aca\")\n",
    "        restaint=restaint+row[5]-anteriorint\n",
    "        print (\"cambio de Integral\")\n",
    "    if row[6]-anteriorgrav>30:\n",
    "        restagrav=restagrav+row[6]-anteriorgrav\n",
    "              \n",
    "   \n",
    "    print(str(contador)+\"  \"+str(row[1])+\"   \"+str(row[5])+\"   \"+str(row[5]-restaint)+\"---------\"+str(row[6])+\"   \"+str(row[6]-restagrav))\n",
    "    integral.append(row[2]-restaint)\n",
    "    grava.append(row[3]-restagrav)\n",
    "    #aca debo hacer el insert a la nueva tabla\n",
    "    consulta=\"INSERT INTO `pesometroreparado` (`hora`, `acc1`, `acc2`, `acc3`)VALUES ('\"+str(row[1])+\"', '\"+str(row[5]-restaint-anteriorintsql)+\"', '\"+str(row[6]-restagrav-anteriorgravasql)+\"', NULL);\"\n",
    "    #print(consulta)\n",
    "    #print(anteriorint)\n",
    "    cur.execute(consulta)\n",
    "    db.commit()\n",
    "    anteriorint=row[5]\n",
    "    anteriorgrav=row[6]\n",
    "    anteriorintsql=row[5]-restaint\n",
    "    anteriorgravasql=row[6]-restagrav\n",
    "    contador=contador+1\n",
    "\n",
    "print(\"la produccion de integral es : \")\n",
    "print(str(integral[len(integral)-1]))\n",
    "print(\"la produccion de integral es en toneladas: \")\n",
    "print(str(integral[len(integral)-1]*100/1000))\n",
    "\n",
    "print(\"la produccion de grava es : \")\n",
    "print(str(grava[len(grava)-1]))\n",
    "\n",
    "print(\"la produccion de grava en toneladas es : \")\n",
    "print(str(grava[len(grava)-1]*100/1000))"
   ],
   "metadata": {
    "collapsed": false,
    "pycharm": {
     "name": "#%%\n"
    }
   }
  }
 ],
 "metadata": {
  "kernelspec": {
   "name": "python3",
   "language": "python",
   "display_name": "Python 3"
  },
  "language_info": {
   "codemirror_mode": {
    "name": "ipython",
    "version": 2
   },
   "file_extension": ".py",
   "mimetype": "text/x-python",
   "name": "python",
   "nbconvert_exporter": "python",
   "pygments_lexer": "ipython2",
   "version": "2.7.6"
  },
  "pycharm": {
   "stem_cell": {
    "cell_type": "raw",
    "source": [],
    "metadata": {
     "collapsed": false
    }
   }
  }
 },
 "nbformat": 4,
 "nbformat_minor": 1
}