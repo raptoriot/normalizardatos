{
 "cells": [
  {
   "cell_type": "markdown",
   "metadata": {
    "collapsed": true,
    "pycharm": {
     "name": "#%% md\n"
    }
   },
   "source": [
    "Primer paso es leer BD del servidor donde se tenga la tabla de los pesometros antiguos con problemas.\n",
    "En este caso es el servidor de google"
   ]
  },
  {
   "cell_type": "code",
   "execution_count": 14,
   "metadata": {
    "pycharm": {
     "name": "#%%\n",
     "is_executing": false
    }
   },
   "outputs": [
    {
     "name": "stdout",
     "text": [
      "conexion a gc\ncamiones_reg\ncargador_reg\npesometroreparado\npesometros\n \n"
     ],
     "output_type": "stream"
    }
   ],
   "source": [
    "import mysql.connector\n",
    "import time\n",
    "import matplotlib.pyplot as plt\n",
    "from matplotlib.dates import DateFormatter\n",
    "\n",
    "\n",
    "db = mysql.connector.connect(host=\"35.198.8.176\",user=\"alvarov\",passwd=\"lata5comprar\",db=\"bsa_loblanco\",charset = \"utf8\" )        # el nombre de la base de datos\n",
    "#analisisBDInaplast\n",
    "cur = db.cursor()\n",
    "print(\"conexion a gc\")\n",
    "consulta=\"SHOW TABLES\"\n",
    "cur.execute(consulta)\n",
    "for row in cur.fetchall():\n",
    "    print (str(row[0]))\n",
    "print (\" \")\n"
   ]
  },
  {
   "cell_type": "markdown",
   "source": [
    "Los datos en bruto estan en la tabla pesometro columna acc1 pesometro integral y acc2 pesometro grava 3/4.\n",
    "row[1]=fecha, row[5]=integral, row[6]=grava3/4"
   ],
   "metadata": {
    "collapsed": false,
    "pycharm": {
     "name": "#%% md\n"
    }
   }
  },
  {
   "cell_type": "code",
   "execution_count": 15,
   "outputs": [
    {
     "name": "stdout",
     "text": [
      "id\nfecha\ntph1\ntph2\ntph3\nacc1\nacc2\nacc3\ndiff1\ndiff2\ndiff3\n \n"
     ],
     "output_type": "stream"
    }
   ],
   "source": [
    "consulta=\"DESCRIBE pesometros\"\n",
    "cur.execute(consulta)\n",
    "for row in cur.fetchall():\n",
    "    print (str(row[0]))\n",
    "print (\" \")\n"
   ],
   "metadata": {
    "collapsed": false,
    "pycharm": {
     "name": "#%%\n",
     "is_executing": false
    }
   }
  },
  {
   "cell_type": "markdown",
   "source": [
    "vamos a leer el primer y ultimo registro de la tabla pesometro, en la consulta anterior se muestran los nombre de las columnas\n"
   ],
   "metadata": {
    "collapsed": false,
    "pycharm": {
     "name": "#%% md\n"
    }
   }
  },
  {
   "cell_type": "code",
   "execution_count": 13,
   "outputs": [
    {
     "name": "stdout",
     "text": [
      "SELECT * FROM pesometros WHERE fecha >= '2019-08-01 08:00:03'ORDER BY id ASC LIMIT 1\n",
      "El primer registro de la consulta \n54159986 2019-08-07 19:20:13 -1 -1\n \nEl ultimo registro de la consulta \n54312212 2019-08-16 15:46:44 240 120\n54312211 2019-08-16 15:46:41 240 120\n54312210 2019-08-16 15:46:38 240 120\n54312209 2019-08-16 15:46:35 240 120\n54312208 2019-08-16 15:46:32 240 120\n54312207 2019-08-16 15:46:29 260 120\n54312206 2019-08-16 15:46:26 260 100\n54312205 2019-08-16 15:46:23 260 100\n54312204 2019-08-16 15:46:20 260 100\n54312203 2019-08-16 15:46:17 260 100\n \n"
     ],
     "output_type": "stream"
    }
   ],
   "source": [
    "integralx=[]\n",
    "gravax=[]\n",
    "fechaIni=\"'2019-08-01 08:00:03'\"\n",
    "fechaFin=\"'2019-08-20 08:00:00'\" \n",
    "#consula\n",
    "tabla=\"pesometros\"\n",
    "consulta=\"SELECT * FROM \"+tabla+\" WHERE fecha >= \"+fechaIni+ \"ORDER BY id ASC LIMIT 1\"\n",
    "print(consulta)\n",
    "cur.execute(consulta)\n",
    "print (\"El primer registro de la consulta \")\n",
    "for row in cur.fetchall():\n",
    "     print (str(row[0]) + \" \" +str(row[1])+\" \"+str(row[2]) + \" \" +str(row[3]))\n",
    "     integralx.append(row[2])\n",
    "     gravax.append(row[3])\n",
    "print (\" \")\n",
    "print (\"El ultimo registro de la consulta \")\n",
    "tabla=\"pesometros\"\n",
    "consulta=\"SELECT * FROM \"+tabla+\" WHERE fecha <= \"+fechaFin+ \"ORDER BY id DESC LIMIT 10\"\n",
    "cur.execute(consulta)\n",
    "for row in cur.fetchall():\n",
    "     print (str(row[0]) + \" \" +str(row[1])+\" \"+str(row[2]) + \" \" +str(row[3]))\n",
    "     integralx.append(row[2])\n",
    "     gravax.append(row[3])\n",
    "print (\" \")"
   ],
   "metadata": {
    "collapsed": false,
    "pycharm": {
     "name": "#%%\n",
     "is_executing": false
    }
   }
  }
 ],
 "metadata": {
  "kernelspec": {
   "name": "python3",
   "language": "python",
   "display_name": "Python 3"
  },
  "language_info": {
   "codemirror_mode": {
    "name": "ipython",
    "version": 2
   },
   "file_extension": ".py",
   "mimetype": "text/x-python",
   "name": "python",
   "nbconvert_exporter": "python",
   "pygments_lexer": "ipython2",
   "version": "2.7.6"
  },
  "pycharm": {
   "stem_cell": {
    "cell_type": "raw",
    "source": [],
    "metadata": {
     "collapsed": false
    }
   }
  }
 },
 "nbformat": 4,
 "nbformat_minor": 1
}