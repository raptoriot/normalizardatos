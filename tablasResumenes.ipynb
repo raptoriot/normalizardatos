{
 "cells": [
  {
   "cell_type": "markdown",
   "metadata": {
    "collapsed": true,
    "pycharm": {
     "name": "#%% md\n"
    }
   },
   "source": [
    "Vamos a crear los algoritmos que generan las Tablas resumenes por turno, como material que ha pasado\n",
    "por pesometro, o volumen de cargio en buzon\n"
   ]
  },
  {
   "cell_type": "markdown",
   "source": [
    "como primer ejercicio, vamos a crear un algoritmo que valla generando los registros de turnos entre fechas\n",
    "del dia N\n",
    "Turno A 08:00 a 20:00\n",
    "Turno B 20:00 a 08:00 del dia N+1\n",
    "vamos a guardar los datos en un caomp 'date', ya que este es correctamente leido por data studio, tambien \n",
    "vamos a crear un delta para ir sumando los dias \n"
   ],
   "metadata": {
    "collapsed": false,
    "pycharm": {
     "name": "#%% md\n"
    }
   }
  },
  {
   "cell_type": "code",
   "execution_count": 21,
   "outputs": [
    {
     "name": "stdout",
     "text": [
      "2018-9-23\n1 day, 0:00:00\n2018-09-24 00:00:00\n2018-09-24 00:00:00\n"
     ],
     "output_type": "stream"
    },
    {
     "traceback": [
      "\u001b[0;31m---------------------------------------------------------------------------\u001b[0m",
      "\u001b[0;31mValueError\u001b[0m                                Traceback (most recent call last)",
      "\u001b[0;32m<ipython-input-21-1d06a4718be6>\u001b[0m in \u001b[0;36m<module>\u001b[0;34m\u001b[0m\n\u001b[1;32m     16\u001b[0m \u001b[0mfechalarga\u001b[0m\u001b[0;34m=\u001b[0m\u001b[0mdatetime\u001b[0m\u001b[0;34m.\u001b[0m\u001b[0mdatetime\u001b[0m\u001b[0;34m.\u001b[0m\u001b[0mstrptime\u001b[0m\u001b[0;34m(\u001b[0m\u001b[0mstr\u001b[0m\u001b[0;34m(\u001b[0m\u001b[0mfecha\u001b[0m\u001b[0;34m+\u001b[0m\u001b[0mdelta\u001b[0m\u001b[0;34m)\u001b[0m\u001b[0;34m,\u001b[0m \u001b[0mfmt\u001b[0m\u001b[0;34m)\u001b[0m\u001b[0;34m\u001b[0m\u001b[0;34m\u001b[0m\u001b[0m\n\u001b[1;32m     17\u001b[0m \u001b[0mprint\u001b[0m\u001b[0;34m(\u001b[0m\u001b[0mfechalarga\u001b[0m\u001b[0;34m)\u001b[0m\u001b[0;34m\u001b[0m\u001b[0;34m\u001b[0m\u001b[0m\n\u001b[0;32m---> 18\u001b[0;31m \u001b[0mfechacorta\u001b[0m\u001b[0;34m=\u001b[0m\u001b[0mdatetime\u001b[0m\u001b[0;34m.\u001b[0m\u001b[0mdatetime\u001b[0m\u001b[0;34m.\u001b[0m\u001b[0mstrptime\u001b[0m\u001b[0;34m(\u001b[0m\u001b[0mstr\u001b[0m\u001b[0;34m(\u001b[0m\u001b[0mfecha\u001b[0m\u001b[0;34m+\u001b[0m\u001b[0mdelta\u001b[0m\u001b[0;34m)\u001b[0m\u001b[0;34m,\u001b[0m \u001b[0mfmt1\u001b[0m\u001b[0;34m)\u001b[0m\u001b[0;34m\u001b[0m\u001b[0;34m\u001b[0m\u001b[0m\n\u001b[0m\u001b[1;32m     19\u001b[0m \u001b[0mprint\u001b[0m\u001b[0;34m\u001b[0m\u001b[0;34m\u001b[0m\u001b[0m\n",
      "\u001b[0;32m~/anaconda2/envs/repararPesometro/lib/python3.7/_strptime.py\u001b[0m in \u001b[0;36m_strptime_datetime\u001b[0;34m(cls, data_string, format)\u001b[0m\n\u001b[1;32m    575\u001b[0m     \"\"\"Return a class cls instance based on the input string and the\n\u001b[1;32m    576\u001b[0m     format string.\"\"\"\n\u001b[0;32m--> 577\u001b[0;31m     \u001b[0mtt\u001b[0m\u001b[0;34m,\u001b[0m \u001b[0mfraction\u001b[0m\u001b[0;34m,\u001b[0m \u001b[0mgmtoff_fraction\u001b[0m \u001b[0;34m=\u001b[0m \u001b[0m_strptime\u001b[0m\u001b[0;34m(\u001b[0m\u001b[0mdata_string\u001b[0m\u001b[0;34m,\u001b[0m \u001b[0mformat\u001b[0m\u001b[0;34m)\u001b[0m\u001b[0;34m\u001b[0m\u001b[0;34m\u001b[0m\u001b[0m\n\u001b[0m\u001b[1;32m    578\u001b[0m     \u001b[0mtzname\u001b[0m\u001b[0;34m,\u001b[0m \u001b[0mgmtoff\u001b[0m \u001b[0;34m=\u001b[0m \u001b[0mtt\u001b[0m\u001b[0;34m[\u001b[0m\u001b[0;34m-\u001b[0m\u001b[0;36m2\u001b[0m\u001b[0;34m:\u001b[0m\u001b[0;34m]\u001b[0m\u001b[0;34m\u001b[0m\u001b[0;34m\u001b[0m\u001b[0m\n\u001b[1;32m    579\u001b[0m     \u001b[0margs\u001b[0m \u001b[0;34m=\u001b[0m \u001b[0mtt\u001b[0m\u001b[0;34m[\u001b[0m\u001b[0;34m:\u001b[0m\u001b[0;36m6\u001b[0m\u001b[0;34m]\u001b[0m \u001b[0;34m+\u001b[0m \u001b[0;34m(\u001b[0m\u001b[0mfraction\u001b[0m\u001b[0;34m,\u001b[0m\u001b[0;34m)\u001b[0m\u001b[0;34m\u001b[0m\u001b[0;34m\u001b[0m\u001b[0m\n",
      "\u001b[0;32m~/anaconda2/envs/repararPesometro/lib/python3.7/_strptime.py\u001b[0m in \u001b[0;36m_strptime\u001b[0;34m(data_string, format)\u001b[0m\n\u001b[1;32m    360\u001b[0m     \u001b[0;32mif\u001b[0m \u001b[0mlen\u001b[0m\u001b[0;34m(\u001b[0m\u001b[0mdata_string\u001b[0m\u001b[0;34m)\u001b[0m \u001b[0;34m!=\u001b[0m \u001b[0mfound\u001b[0m\u001b[0;34m.\u001b[0m\u001b[0mend\u001b[0m\u001b[0;34m(\u001b[0m\u001b[0;34m)\u001b[0m\u001b[0;34m:\u001b[0m\u001b[0;34m\u001b[0m\u001b[0;34m\u001b[0m\u001b[0m\n\u001b[1;32m    361\u001b[0m         raise ValueError(\"unconverted data remains: %s\" %\n\u001b[0;32m--> 362\u001b[0;31m                           data_string[found.end():])\n\u001b[0m\u001b[1;32m    363\u001b[0m \u001b[0;34m\u001b[0m\u001b[0m\n\u001b[1;32m    364\u001b[0m     \u001b[0miso_year\u001b[0m \u001b[0;34m=\u001b[0m \u001b[0myear\u001b[0m \u001b[0;34m=\u001b[0m \u001b[0;32mNone\u001b[0m\u001b[0;34m\u001b[0m\u001b[0;34m\u001b[0m\u001b[0m\n",
      "\u001b[0;31mValueError\u001b[0m: unconverted data remains:  00:00:00"
     ],
     "ename": "ValueError",
     "evalue": "unconverted data remains:  00:00:00",
     "output_type": "error"
    }
   ],
   "source": [
    "import datetime\n",
    "\n",
    "fmt = '%Y-%m-%d %H:%M:%S'\n",
    "fmt1 = '%Y-%m-%d'\n",
    "delta=datetime.timedelta(days=1)\n",
    "fecha=datetime.datetime.strptime(\"2018-09-23\", fmt1)\n",
    "dia=fecha.day\n",
    "mes=fecha.month\n",
    "ano=fecha.year\n",
    "fechacorta=\"\"+str(ano)+\"-\"+str(mes)+\"-\"+str(dia)\n",
    "\n",
    "print(fechacorta)\n",
    "\n",
    "print(delta )\n",
    "print(fecha+delta)\n",
    "fechalarga=datetime.datetime.strptime(str(fecha+delta), fmt)\n",
    "print(fechalarga)\n",
    "fechacorta=datetime.datetime.strptime(str(fecha+delta), fmt1)\n",
    "print"
   ],
   "metadata": {
    "collapsed": false,
    "pycharm": {
     "name": "#%%\n",
     "is_executing": false
    }
   }
  },
  {
   "cell_type": "markdown",
   "source": [
    "vamos a revisar las tablas que existen\n"
   ],
   "metadata": {
    "collapsed": false,
    "pycharm": {
     "name": "#%% md\n"
    }
   }
  },
  {
   "cell_type": "code",
   "execution_count": 44,
   "outputs": [
    {
     "name": "stdout",
     "text": [
      "camiones_reg\ncargador_reg\npesometroreparado2\npesometroreparado3\npesometros\nprueba\nprueba2\nprueba3\nturnos_pesometros\n \n"
     ],
     "output_type": "stream"
    }
   ],
   "source": [
    "import mysql.connector\n",
    "import time\n",
    "import matplotlib.pyplot as plt\n",
    "from matplotlib.dates import DateFormatter\n",
    "db = mysql.connector.connect(host=\"35.198.8.176\",user=\"alvarov\",passwd=\"lata5comprar\",db=\"bsa_loblanco\",charset = \"utf8\" )\n",
    "#analisisBDInaplast\n",
    "cur = db.cursor()\n",
    "tablas=[]\n",
    "consulta=\"SHOW TABLES\"\n",
    "cur.execute(consulta)\n",
    "for row in cur.fetchall():\n",
    "    print (str(row[0]))\n",
    "    tablas.append(row[0])\n",
    "print (\" \")\n"
   ],
   "metadata": {
    "collapsed": false,
    "pycharm": {
     "name": "#%%\n",
     "is_executing": false
    }
   }
  },
  {
   "cell_type": "markdown",
   "source": [
    "crear tabla prueba\n"
   ],
   "metadata": {
    "collapsed": false,
    "pycharm": {
     "name": "#%% md\n"
    }
   }
  },
  {
   "cell_type": "code",
   "execution_count": 20,
   "outputs": [
    {
     "traceback": [
      "\u001b[0;31m---------------------------------------------------------------------------\u001b[0m",
      "\u001b[0;31mProgrammingError\u001b[0m                          Traceback (most recent call last)",
      "\u001b[0;32m<ipython-input-20-41ce74e78934>\u001b[0m in \u001b[0;36m<module>\u001b[0;34m\u001b[0m\n\u001b[1;32m      8\u001b[0m \u001b[0mcur\u001b[0m \u001b[0;34m=\u001b[0m \u001b[0mdb\u001b[0m\u001b[0;34m.\u001b[0m\u001b[0mcursor\u001b[0m\u001b[0;34m(\u001b[0m\u001b[0;34m)\u001b[0m\u001b[0;34m\u001b[0m\u001b[0;34m\u001b[0m\u001b[0m\n\u001b[1;32m      9\u001b[0m \u001b[0mconsulta\u001b[0m\u001b[0;34m=\u001b[0m\u001b[0;34m\"CREATE TABLE `turnos_pesometros` (`id` int NOT NULL AUTO_INCREMENT PRIMARY KEY, `fecha` date NOT NULL, `pes1` int NULL,`pes2` int NULL,`pes3` int NULL, `turno` char(4) NULL, `estado` char(4) NULL);\"\u001b[0m\u001b[0;34m\u001b[0m\u001b[0;34m\u001b[0m\u001b[0m\n\u001b[0;32m---> 10\u001b[0;31m \u001b[0mcur\u001b[0m\u001b[0;34m.\u001b[0m\u001b[0mexecute\u001b[0m\u001b[0;34m(\u001b[0m\u001b[0mconsulta\u001b[0m\u001b[0;34m)\u001b[0m\u001b[0;34m\u001b[0m\u001b[0;34m\u001b[0m\u001b[0m\n\u001b[0m\u001b[1;32m     11\u001b[0m \u001b[0;34m\u001b[0m\u001b[0m\n",
      "\u001b[0;32m~/anaconda2/envs/PesometroLB/lib/python3.7/site-packages/mysql/connector/cursor.py\u001b[0m in \u001b[0;36mexecute\u001b[0;34m(self, operation, params, multi)\u001b[0m\n\u001b[1;32m    567\u001b[0m \u001b[0;34m\u001b[0m\u001b[0m\n\u001b[1;32m    568\u001b[0m         \u001b[0;32mtry\u001b[0m\u001b[0;34m:\u001b[0m\u001b[0;34m\u001b[0m\u001b[0;34m\u001b[0m\u001b[0m\n\u001b[0;32m--> 569\u001b[0;31m             \u001b[0mself\u001b[0m\u001b[0;34m.\u001b[0m\u001b[0m_handle_result\u001b[0m\u001b[0;34m(\u001b[0m\u001b[0mself\u001b[0m\u001b[0;34m.\u001b[0m\u001b[0m_connection\u001b[0m\u001b[0;34m.\u001b[0m\u001b[0mcmd_query\u001b[0m\u001b[0;34m(\u001b[0m\u001b[0mstmt\u001b[0m\u001b[0;34m)\u001b[0m\u001b[0;34m)\u001b[0m\u001b[0;34m\u001b[0m\u001b[0;34m\u001b[0m\u001b[0m\n\u001b[0m\u001b[1;32m    570\u001b[0m         \u001b[0;32mexcept\u001b[0m \u001b[0merrors\u001b[0m\u001b[0;34m.\u001b[0m\u001b[0mInterfaceError\u001b[0m\u001b[0;34m:\u001b[0m\u001b[0;34m\u001b[0m\u001b[0;34m\u001b[0m\u001b[0m\n\u001b[1;32m    571\u001b[0m             \u001b[0;32mif\u001b[0m \u001b[0mself\u001b[0m\u001b[0;34m.\u001b[0m\u001b[0m_connection\u001b[0m\u001b[0;34m.\u001b[0m\u001b[0m_have_next_result\u001b[0m\u001b[0;34m:\u001b[0m  \u001b[0;31m# pylint: disable=W0212\u001b[0m\u001b[0;34m\u001b[0m\u001b[0;34m\u001b[0m\u001b[0m\n",
      "\u001b[0;32m~/anaconda2/envs/PesometroLB/lib/python3.7/site-packages/mysql/connector/connection.py\u001b[0m in \u001b[0;36mcmd_query\u001b[0;34m(self, query, raw, buffered, raw_as_string)\u001b[0m\n\u001b[1;32m    588\u001b[0m         \u001b[0;32mif\u001b[0m \u001b[0;32mnot\u001b[0m \u001b[0misinstance\u001b[0m\u001b[0;34m(\u001b[0m\u001b[0mquery\u001b[0m\u001b[0;34m,\u001b[0m \u001b[0mbytes\u001b[0m\u001b[0;34m)\u001b[0m\u001b[0;34m:\u001b[0m\u001b[0;34m\u001b[0m\u001b[0;34m\u001b[0m\u001b[0m\n\u001b[1;32m    589\u001b[0m             \u001b[0mquery\u001b[0m \u001b[0;34m=\u001b[0m \u001b[0mquery\u001b[0m\u001b[0;34m.\u001b[0m\u001b[0mencode\u001b[0m\u001b[0;34m(\u001b[0m\u001b[0;34m'utf-8'\u001b[0m\u001b[0;34m)\u001b[0m\u001b[0;34m\u001b[0m\u001b[0;34m\u001b[0m\u001b[0m\n\u001b[0;32m--> 590\u001b[0;31m         \u001b[0mresult\u001b[0m \u001b[0;34m=\u001b[0m \u001b[0mself\u001b[0m\u001b[0;34m.\u001b[0m\u001b[0m_handle_result\u001b[0m\u001b[0;34m(\u001b[0m\u001b[0mself\u001b[0m\u001b[0;34m.\u001b[0m\u001b[0m_send_cmd\u001b[0m\u001b[0;34m(\u001b[0m\u001b[0mServerCmd\u001b[0m\u001b[0;34m.\u001b[0m\u001b[0mQUERY\u001b[0m\u001b[0;34m,\u001b[0m \u001b[0mquery\u001b[0m\u001b[0;34m)\u001b[0m\u001b[0;34m)\u001b[0m\u001b[0;34m\u001b[0m\u001b[0;34m\u001b[0m\u001b[0m\n\u001b[0m\u001b[1;32m    591\u001b[0m \u001b[0;34m\u001b[0m\u001b[0m\n\u001b[1;32m    592\u001b[0m         \u001b[0;32mif\u001b[0m \u001b[0mself\u001b[0m\u001b[0;34m.\u001b[0m\u001b[0m_have_next_result\u001b[0m\u001b[0;34m:\u001b[0m\u001b[0;34m\u001b[0m\u001b[0;34m\u001b[0m\u001b[0m\n",
      "\u001b[0;32m~/anaconda2/envs/PesometroLB/lib/python3.7/site-packages/mysql/connector/connection.py\u001b[0m in \u001b[0;36m_handle_result\u001b[0;34m(self, packet)\u001b[0m\n\u001b[1;32m    476\u001b[0m             \u001b[0;32mreturn\u001b[0m \u001b[0mself\u001b[0m\u001b[0;34m.\u001b[0m\u001b[0m_handle_eof\u001b[0m\u001b[0;34m(\u001b[0m\u001b[0mpacket\u001b[0m\u001b[0;34m)\u001b[0m\u001b[0;34m\u001b[0m\u001b[0;34m\u001b[0m\u001b[0m\n\u001b[1;32m    477\u001b[0m         \u001b[0;32melif\u001b[0m \u001b[0mpacket\u001b[0m\u001b[0;34m[\u001b[0m\u001b[0;36m4\u001b[0m\u001b[0;34m]\u001b[0m \u001b[0;34m==\u001b[0m \u001b[0;36m255\u001b[0m\u001b[0;34m:\u001b[0m\u001b[0;34m\u001b[0m\u001b[0;34m\u001b[0m\u001b[0m\n\u001b[0;32m--> 478\u001b[0;31m             \u001b[0;32mraise\u001b[0m \u001b[0merrors\u001b[0m\u001b[0;34m.\u001b[0m\u001b[0mget_exception\u001b[0m\u001b[0;34m(\u001b[0m\u001b[0mpacket\u001b[0m\u001b[0;34m)\u001b[0m\u001b[0;34m\u001b[0m\u001b[0;34m\u001b[0m\u001b[0m\n\u001b[0m\u001b[1;32m    479\u001b[0m \u001b[0;34m\u001b[0m\u001b[0m\n\u001b[1;32m    480\u001b[0m         \u001b[0;31m# We have a text result set\u001b[0m\u001b[0;34m\u001b[0m\u001b[0;34m\u001b[0m\u001b[0;34m\u001b[0m\u001b[0m\n",
      "\u001b[0;31mProgrammingError\u001b[0m: 1050 (42S01): Table 'turnos_pesometros' already exists"
     ],
     "ename": "ProgrammingError",
     "evalue": "1050 (42S01): Table 'turnos_pesometros' already exists",
     "output_type": "error"
    }
   ],
   "source": [
    "import mysql.connector\n",
    "import time\n",
    "import matplotlib.pyplot as plt\n",
    "from matplotlib.dates import DateFormatter\n",
    "\n",
    "db = mysql.connector.connect(host=\"35.198.8.176\",user=\"alvarov\",passwd=\"lata5comprar\",db=\"bsa_loblanco\",charset = \"utf8\" )        # el nombre de la base de datos\n",
    "#analisisBDInaplast\n",
    "cur = db.cursor()\n",
    "consulta=\"CREATE TABLE `turnos_pesometros` (`id` int NOT NULL AUTO_INCREMENT PRIMARY KEY, `fecha` date NOT NULL, `pes1` int NULL,`pes2` int NULL,`pes3` int NULL, `turno` char(4) NULL, `estado` char(4) NULL);\"\n",
    "cur.execute(consulta)\n"
   ],
   "metadata": {
    "collapsed": false,
    "pycharm": {
     "name": "#%%\n",
     "is_executing": false
    }
   }
  },
  {
   "cell_type": "markdown",
   "source": [
    "Vamos a insertar datos del turno A 08:00 a 20:00\n"
   ],
   "metadata": {
    "collapsed": false,
    "pycharm": {
     "name": "#%% md\n"
    }
   }
  },
  {
   "cell_type": "code",
   "execution_count": 41,
   "outputs": [
    {
     "name": "stdout",
     "text": [
      "consultar tablas\n0\nselect * FROM pesometroreparado3 WHERE hora between '2019-08-07 08:00:00' and '2019-08-07 20:00:00' \n3200\n700\nINSERT INTO `turnos_pesometros` (`fecha`, `pes1`,`pes2`,`turno`)VALUES ('2019-8-7 ', '3200','700','A');\n",
      "2019-8-7\n1\nselect * FROM pesometroreparado3 WHERE hora between '2019-08-08 08:00:00' and '2019-08-08 20:00:00' \n1048200\n386800\nINSERT INTO `turnos_pesometros` (`fecha`, `pes1`,`pes2`,`turno`)VALUES ('2019-8-8 ', '1048200','386800','A');\n",
      "2019-8-8\n2\nselect * FROM pesometroreparado3 WHERE hora between '2019-08-09 08:00:00' and '2019-08-09 20:00:00' \n",
      "1230700\n462900\nINSERT INTO `turnos_pesometros` (`fecha`, `pes1`,`pes2`,`turno`)VALUES ('2019-8-9 ', '1230700','462900','A');\n2019-8-9\n3\nselect * FROM pesometroreparado3 WHERE hora between '2019-08-10 08:00:00' and '2019-08-10 20:00:00' \n",
      "1633500\n674400\nINSERT INTO `turnos_pesometros` (`fecha`, `pes1`,`pes2`,`turno`)VALUES ('2019-8-10 ', '1633500','674400','A');\n2019-8-10\n4\nselect * FROM pesometroreparado3 WHERE hora between '2019-08-11 08:00:00' and '2019-08-11 20:00:00' \n",
      "1270700\n519900\nINSERT INTO `turnos_pesometros` (`fecha`, `pes1`,`pes2`,`turno`)VALUES ('2019-8-11 ', '1270700','519900','A');\n2019-8-11\n5\nselect * FROM pesometroreparado3 WHERE hora between '2019-08-12 08:00:00' and '2019-08-12 20:00:00' \n",
      "1799300\n717500\nINSERT INTO `turnos_pesometros` (`fecha`, `pes1`,`pes2`,`turno`)VALUES ('2019-8-12 ', '1799300','717500','A');\n2019-8-12\n6\nselect * FROM pesometroreparado3 WHERE hora between '2019-08-13 08:00:00' and '2019-08-13 20:00:00' \n",
      "2257800\n831300\nINSERT INTO `turnos_pesometros` (`fecha`, `pes1`,`pes2`,`turno`)VALUES ('2019-8-13 ', '2257800','831300','A');\n2019-8-13\n7\nselect * FROM pesometroreparado3 WHERE hora between '2019-08-14 08:00:00' and '2019-08-14 20:00:00' \n",
      "63500\n27700\nINSERT INTO `turnos_pesometros` (`fecha`, `pes1`,`pes2`,`turno`)VALUES ('2019-8-14 ', '63500','27700','A');\n2019-8-14\n8\nselect * FROM pesometroreparado3 WHERE hora between '2019-08-15 08:00:00' and '2019-08-15 20:00:00' \n",
      "2704600\n990600\nINSERT INTO `turnos_pesometros` (`fecha`, `pes1`,`pes2`,`turno`)VALUES ('2019-8-15 ', '2704600','990600','A');\n2019-8-15\n9\nselect * FROM pesometroreparado3 WHERE hora between '2019-08-16 08:00:00' and '2019-08-16 20:00:00' \n",
      "2139600\n869200\nINSERT INTO `turnos_pesometros` (`fecha`, `pes1`,`pes2`,`turno`)VALUES ('2019-8-16 ', '2139600','869200','A');\n2019-8-16\n"
     ],
     "output_type": "stream"
    }
   ],
   "source": [
    "import datetime\n",
    "\n",
    "fmt = '%Y-%m-%d %H:%M:%S'\n",
    "delta12=datetime.timedelta(hours=12)\n",
    "fechaIni=\"2019-08-07 08:00:00\"\n",
    "dia=0\n",
    "turno=\"A\"\n",
    "\n",
    "delta24=datetime.timedelta(days=dia)\n",
    "print(\"consultar tablas\")\n",
    "for dia in range(0,10):\n",
    "    delta24=datetime.timedelta(days=dia)\n",
    "    print(dia)\n",
    "    fecha1=datetime.datetime.strptime(fechaIni, fmt)+delta24\n",
    "    fecha2=fecha1+delta12\n",
    "    consulta=\"select * FROM pesometroreparado3 WHERE hora between '\"+str(fecha1)+\"' and '\"+str(fecha2)+\"' \"  \n",
    "    print(consulta)\n",
    "    cur.execute(consulta)\n",
    "    integral=0\n",
    "    grava=0\n",
    "    for row in cur.fetchall():\n",
    "    #print (str(row[2])+\"-\"+str(row[2]))\n",
    "        integral=integral+row[2]\n",
    "        grava=grava+row[3]\n",
    "    print(integral)\n",
    "    print(grava)\n",
    "    dia=fecha1.day\n",
    "    mes=fecha1.month\n",
    "    ano=fecha1.year\n",
    "    fechacorta=\"\"+str(ano)+\"-\"+str(mes)+\"-\"+str(dia)\n",
    "    consulta2=\"INSERT INTO `turnos_pesometros` (`fecha`, `pes1`,`pes2`,`turno`)VALUES ('\"+fechacorta+\" ', '\"+str(integral)+\"','\"+str(grava)+\"','\"+turno+\"');\"\n",
    "    print(consulta2)\n",
    "    cur.execute(consulta2)\n",
    "    db.commit()\n",
    "    print(fechacorta)\n",
    "\n",
    "\n"
   ],
   "metadata": {
    "collapsed": false,
    "pycharm": {
     "name": "#%%\n",
     "is_executing": false
    }
   }
  },
  {
   "cell_type": "markdown",
   "source": [
    "ESTE ES PARA EL TURNO B\n"
   ],
   "metadata": {
    "collapsed": false,
    "pycharm": {
     "name": "#%% md\n",
     "is_executing": false
    }
   }
  },
  {
   "cell_type": "code",
   "execution_count": 42,
   "outputs": [
    {
     "name": "stdout",
     "text": [
      "consultar tablas\n0\nselect * FROM pesometroreparado3 WHERE hora between '2019-08-07 20:00:00' and '2019-08-08 08:00:00' \n",
      "1423400\n541300\nINSERT INTO `turnos_pesometros` (`fecha`, `pes1`,`pes2`,`turno`)VALUES ('2019-8-7 ', '1423400','541300','B');\n2019-8-7\n1\nselect * FROM pesometroreparado3 WHERE hora between '2019-08-08 20:00:00' and '2019-08-09 08:00:00' \n",
      "1795600\n712200\nINSERT INTO `turnos_pesometros` (`fecha`, `pes1`,`pes2`,`turno`)VALUES ('2019-8-8 ', '1795600','712200','B');\n2019-8-8\n2\nselect * FROM pesometroreparado3 WHERE hora between '2019-08-09 20:00:00' and '2019-08-10 08:00:00' \n",
      "1892000\n776100\nINSERT INTO `turnos_pesometros` (`fecha`, `pes1`,`pes2`,`turno`)VALUES ('2019-8-9 ', '1892000','776100','B');\n2019-8-9\n3\nselect * FROM pesometroreparado3 WHERE hora between '2019-08-10 20:00:00' and '2019-08-11 08:00:00' \n",
      "1637800\n800500\nINSERT INTO `turnos_pesometros` (`fecha`, `pes1`,`pes2`,`turno`)VALUES ('2019-8-10 ', '1637800','800500','B');\n2019-8-10\n4\nselect * FROM pesometroreparado3 WHERE hora between '2019-08-11 20:00:00' and '2019-08-12 08:00:00' \n",
      "2170400\n883600\nINSERT INTO `turnos_pesometros` (`fecha`, `pes1`,`pes2`,`turno`)VALUES ('2019-8-11 ', '2170400','883600','B');\n2019-8-11\n5\nselect * FROM pesometroreparado3 WHERE hora between '2019-08-12 20:00:00' and '2019-08-13 08:00:00' \n",
      "1230600\n512700\nINSERT INTO `turnos_pesometros` (`fecha`, `pes1`,`pes2`,`turno`)VALUES ('2019-8-12 ', '1230600','512700','B');\n2019-8-12\n6\nselect * FROM pesometroreparado3 WHERE hora between '2019-08-13 20:00:00' and '2019-08-14 08:00:00' \n",
      "2060400\n736300\nINSERT INTO `turnos_pesometros` (`fecha`, `pes1`,`pes2`,`turno`)VALUES ('2019-8-13 ', '2060400','736300','B');\n2019-8-13\n7\nselect * FROM pesometroreparado3 WHERE hora between '2019-08-14 20:00:00' and '2019-08-15 08:00:00' \n",
      "512100\n173900\nINSERT INTO `turnos_pesometros` (`fecha`, `pes1`,`pes2`,`turno`)VALUES ('2019-8-14 ', '512100','173900','B');\n2019-8-14\n8\nselect * FROM pesometroreparado3 WHERE hora between '2019-08-15 20:00:00' and '2019-08-16 08:00:00' \n",
      "2570600\n952500\nINSERT INTO `turnos_pesometros` (`fecha`, `pes1`,`pes2`,`turno`)VALUES ('2019-8-15 ', '2570600','952500','B');\n2019-8-15\n9\nselect * FROM pesometroreparado3 WHERE hora between '2019-08-16 20:00:00' and '2019-08-17 08:00:00' \n",
      "0\n0\nINSERT INTO `turnos_pesometros` (`fecha`, `pes1`,`pes2`,`turno`)VALUES ('2019-8-16 ', '0','0','B');\n2019-8-16\n"
     ],
     "output_type": "stream"
    }
   ],
   "source": [
    "\n",
    "import datetime\n",
    "\n",
    "fmt = '%Y-%m-%d %H:%M:%S'\n",
    "delta12=datetime.timedelta(hours=12)\n",
    "fechaIni=\"2019-08-07 20:00:00\"\n",
    "dia=0\n",
    "turno=\"B\"\n",
    "\n",
    "delta24=datetime.timedelta(days=dia)\n",
    "print(\"consultar tablas\")\n",
    "for dia in range(0,10):\n",
    "    delta24=datetime.timedelta(days=dia)\n",
    "    print(dia)\n",
    "    fecha1=datetime.datetime.strptime(fechaIni, fmt)+delta24\n",
    "    fecha2=fecha1+delta12\n",
    "    consulta=\"select * FROM pesometroreparado3 WHERE hora between '\"+str(fecha1)+\"' and '\"+str(fecha2)+\"' \"  \n",
    "    print(consulta)\n",
    "    cur.execute(consulta)\n",
    "    integral=0\n",
    "    grava=0\n",
    "    for row in cur.fetchall():\n",
    "    #print (str(row[2])+\"-\"+str(row[2]))\n",
    "        integral=integral+row[2]\n",
    "        grava=grava+row[3]\n",
    "    print(integral)\n",
    "    print(grava)\n",
    "    dia=fecha1.day\n",
    "    mes=fecha1.month\n",
    "    ano=fecha1.year\n",
    "    fechacorta=\"\"+str(ano)+\"-\"+str(mes)+\"-\"+str(dia)\n",
    "    consulta2=\"INSERT INTO `turnos_pesometros` (`fecha`, `pes1`,`pes2`,`turno`)VALUES ('\"+fechacorta+\" ', '\"+str(integral)+\"','\"+str(grava)+\"','\"+turno+\"');\"\n",
    "    print(consulta2)\n",
    "    cur.execute(consulta2)\n",
    "    db.commit()\n",
    "    print(fechacorta)\n",
    "\n",
    "\n",
    "\n",
    "\n",
    "\n",
    "\n"
   ],
   "metadata": {
    "collapsed": false,
    "pycharm": {
     "name": "#%%\n",
     "is_executing": false
    }
   }
  },
  {
   "cell_type": "markdown",
   "source": [
    "vamos a crear una nueva tabla con la fecha solo dia\n"
   ],
   "metadata": {
    "collapsed": false,
    "pycharm": {
     "name": "#%% md\n"
    }
   }
  },
  {
   "cell_type": "code",
   "execution_count": 6,
   "outputs": [
    {
     "traceback": [
      "\u001b[0;31m---------------------------------------------------------------------------\u001b[0m",
      "\u001b[0;31mProgrammingError\u001b[0m                          Traceback (most recent call last)",
      "\u001b[0;32m<ipython-input-6-04c4b4433487>\u001b[0m in \u001b[0;36m<module>\u001b[0;34m\u001b[0m\n\u001b[1;32m      1\u001b[0m \u001b[0mconsulta\u001b[0m\u001b[0;34m=\u001b[0m\u001b[0;34m\"CREATE TABLE `prueba3` (`id` int NOT NULL AUTO_INCREMENT PRIMARY KEY, `fecha` date NOT NULL, `valor` int NULL, `turno` char(4) NULL, `estado` char(4) NULL);\"\u001b[0m\u001b[0;34m\u001b[0m\u001b[0;34m\u001b[0m\u001b[0m\n\u001b[0;32m----> 2\u001b[0;31m \u001b[0mcur\u001b[0m\u001b[0;34m.\u001b[0m\u001b[0mexecute\u001b[0m\u001b[0;34m(\u001b[0m\u001b[0mconsulta\u001b[0m\u001b[0;34m)\u001b[0m\u001b[0;34m\u001b[0m\u001b[0;34m\u001b[0m\u001b[0m\n\u001b[0m\u001b[1;32m      3\u001b[0m \u001b[0;34m\u001b[0m\u001b[0m\n\u001b[1;32m      4\u001b[0m \u001b[0;34m\u001b[0m\u001b[0m\n",
      "\u001b[0;32m~/anaconda2/envs/PesometroLB/lib/python3.7/site-packages/mysql/connector/cursor.py\u001b[0m in \u001b[0;36mexecute\u001b[0;34m(self, operation, params, multi)\u001b[0m\n\u001b[1;32m    567\u001b[0m \u001b[0;34m\u001b[0m\u001b[0m\n\u001b[1;32m    568\u001b[0m         \u001b[0;32mtry\u001b[0m\u001b[0;34m:\u001b[0m\u001b[0;34m\u001b[0m\u001b[0;34m\u001b[0m\u001b[0m\n\u001b[0;32m--> 569\u001b[0;31m             \u001b[0mself\u001b[0m\u001b[0;34m.\u001b[0m\u001b[0m_handle_result\u001b[0m\u001b[0;34m(\u001b[0m\u001b[0mself\u001b[0m\u001b[0;34m.\u001b[0m\u001b[0m_connection\u001b[0m\u001b[0;34m.\u001b[0m\u001b[0mcmd_query\u001b[0m\u001b[0;34m(\u001b[0m\u001b[0mstmt\u001b[0m\u001b[0;34m)\u001b[0m\u001b[0;34m)\u001b[0m\u001b[0;34m\u001b[0m\u001b[0;34m\u001b[0m\u001b[0m\n\u001b[0m\u001b[1;32m    570\u001b[0m         \u001b[0;32mexcept\u001b[0m \u001b[0merrors\u001b[0m\u001b[0;34m.\u001b[0m\u001b[0mInterfaceError\u001b[0m\u001b[0;34m:\u001b[0m\u001b[0;34m\u001b[0m\u001b[0;34m\u001b[0m\u001b[0m\n\u001b[1;32m    571\u001b[0m             \u001b[0;32mif\u001b[0m \u001b[0mself\u001b[0m\u001b[0;34m.\u001b[0m\u001b[0m_connection\u001b[0m\u001b[0;34m.\u001b[0m\u001b[0m_have_next_result\u001b[0m\u001b[0;34m:\u001b[0m  \u001b[0;31m# pylint: disable=W0212\u001b[0m\u001b[0;34m\u001b[0m\u001b[0;34m\u001b[0m\u001b[0m\n",
      "\u001b[0;32m~/anaconda2/envs/PesometroLB/lib/python3.7/site-packages/mysql/connector/connection.py\u001b[0m in \u001b[0;36mcmd_query\u001b[0;34m(self, query, raw, buffered, raw_as_string)\u001b[0m\n\u001b[1;32m    588\u001b[0m         \u001b[0;32mif\u001b[0m \u001b[0;32mnot\u001b[0m \u001b[0misinstance\u001b[0m\u001b[0;34m(\u001b[0m\u001b[0mquery\u001b[0m\u001b[0;34m,\u001b[0m \u001b[0mbytes\u001b[0m\u001b[0;34m)\u001b[0m\u001b[0;34m:\u001b[0m\u001b[0;34m\u001b[0m\u001b[0;34m\u001b[0m\u001b[0m\n\u001b[1;32m    589\u001b[0m             \u001b[0mquery\u001b[0m \u001b[0;34m=\u001b[0m \u001b[0mquery\u001b[0m\u001b[0;34m.\u001b[0m\u001b[0mencode\u001b[0m\u001b[0;34m(\u001b[0m\u001b[0;34m'utf-8'\u001b[0m\u001b[0;34m)\u001b[0m\u001b[0;34m\u001b[0m\u001b[0;34m\u001b[0m\u001b[0m\n\u001b[0;32m--> 590\u001b[0;31m         \u001b[0mresult\u001b[0m \u001b[0;34m=\u001b[0m \u001b[0mself\u001b[0m\u001b[0;34m.\u001b[0m\u001b[0m_handle_result\u001b[0m\u001b[0;34m(\u001b[0m\u001b[0mself\u001b[0m\u001b[0;34m.\u001b[0m\u001b[0m_send_cmd\u001b[0m\u001b[0;34m(\u001b[0m\u001b[0mServerCmd\u001b[0m\u001b[0;34m.\u001b[0m\u001b[0mQUERY\u001b[0m\u001b[0;34m,\u001b[0m \u001b[0mquery\u001b[0m\u001b[0;34m)\u001b[0m\u001b[0;34m)\u001b[0m\u001b[0;34m\u001b[0m\u001b[0;34m\u001b[0m\u001b[0m\n\u001b[0m\u001b[1;32m    591\u001b[0m \u001b[0;34m\u001b[0m\u001b[0m\n\u001b[1;32m    592\u001b[0m         \u001b[0;32mif\u001b[0m \u001b[0mself\u001b[0m\u001b[0;34m.\u001b[0m\u001b[0m_have_next_result\u001b[0m\u001b[0;34m:\u001b[0m\u001b[0;34m\u001b[0m\u001b[0;34m\u001b[0m\u001b[0m\n",
      "\u001b[0;32m~/anaconda2/envs/PesometroLB/lib/python3.7/site-packages/mysql/connector/connection.py\u001b[0m in \u001b[0;36m_handle_result\u001b[0;34m(self, packet)\u001b[0m\n\u001b[1;32m    476\u001b[0m             \u001b[0;32mreturn\u001b[0m \u001b[0mself\u001b[0m\u001b[0;34m.\u001b[0m\u001b[0m_handle_eof\u001b[0m\u001b[0;34m(\u001b[0m\u001b[0mpacket\u001b[0m\u001b[0;34m)\u001b[0m\u001b[0;34m\u001b[0m\u001b[0;34m\u001b[0m\u001b[0m\n\u001b[1;32m    477\u001b[0m         \u001b[0;32melif\u001b[0m \u001b[0mpacket\u001b[0m\u001b[0;34m[\u001b[0m\u001b[0;36m4\u001b[0m\u001b[0;34m]\u001b[0m \u001b[0;34m==\u001b[0m \u001b[0;36m255\u001b[0m\u001b[0;34m:\u001b[0m\u001b[0;34m\u001b[0m\u001b[0;34m\u001b[0m\u001b[0m\n\u001b[0;32m--> 478\u001b[0;31m             \u001b[0;32mraise\u001b[0m \u001b[0merrors\u001b[0m\u001b[0;34m.\u001b[0m\u001b[0mget_exception\u001b[0m\u001b[0;34m(\u001b[0m\u001b[0mpacket\u001b[0m\u001b[0;34m)\u001b[0m\u001b[0;34m\u001b[0m\u001b[0;34m\u001b[0m\u001b[0m\n\u001b[0m\u001b[1;32m    479\u001b[0m \u001b[0;34m\u001b[0m\u001b[0m\n\u001b[1;32m    480\u001b[0m         \u001b[0;31m# We have a text result set\u001b[0m\u001b[0;34m\u001b[0m\u001b[0;34m\u001b[0m\u001b[0;34m\u001b[0m\u001b[0m\n",
      "\u001b[0;31mProgrammingError\u001b[0m: 1050 (42S01): Table 'prueba3' already exists"
     ],
     "ename": "ProgrammingError",
     "evalue": "1050 (42S01): Table 'prueba3' already exists",
     "output_type": "error"
    }
   ],
   "source": [
    "\n",
    "\n",
    "\n",
    "\n"
   ],
   "metadata": {
    "collapsed": false,
    "pycharm": {
     "name": "#%%\n",
     "is_executing": false
    }
   }
  }
 ],
 "metadata": {
  "language_info": {
   "codemirror_mode": {
    "name": "ipython",
    "version": 2
   },
   "file_extension": ".py",
   "mimetype": "text/x-python",
   "name": "python",
   "nbconvert_exporter": "python",
   "pygments_lexer": "ipython2",
   "version": "2.7.6"
  },
  "kernelspec": {
   "name": "pycharm-657533c",
   "language": "python",
   "display_name": "PyCharm (PesometroLB)"
  },
  "pycharm": {
   "stem_cell": {
    "cell_type": "raw",
    "source": [],
    "metadata": {
     "collapsed": false
    }
   }
  }
 },
 "nbformat": 4,
 "nbformat_minor": 0
}