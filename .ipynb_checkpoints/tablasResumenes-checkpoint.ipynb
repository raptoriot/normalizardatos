{
 "cells": [
  {
   "cell_type": "markdown",
   "metadata": {
    "collapsed": true,
    "pycharm": {
     "name": "#%% md\n"
    }
   },
   "source": [
    "Vamos a crear los algoritmos que generan las Tablas resumenes por turno, como material que ha pasado\n",
    "por pesometro, o volumen de cargio en buzon\n"
   ]
  },
  {
   "cell_type": "markdown",
   "metadata": {
    "pycharm": {
     "name": "#%% md\n"
    }
   },
   "source": [
    "como primer ejercicio, vamos a crear un algoritmo que valla generando los registros de turnos entre fechas\n",
    "del dia N\n",
    "Turno A 08:00 a 20:00\n",
    "Turno B 20:00 a 08:00 del dia N+1\n"
   ]
  },
  {
   "cell_type": "code",
   "execution_count": 1,
   "metadata": {
    "pycharm": {
     "is_executing": false,
     "name": "#%%\n"
    }
   },
   "outputs": [
    {
     "name": "stdout",
     "output_type": "stream",
     "text": [
      "2018-09-23 07:34:15\n"
     ]
    }
   ],
   "source": [
    "import datetime\n",
    "\n",
    "fmt = '%Y-%m-%d %H:%M:%S'\n",
    "fecha=anteriordate= datetime.datetime.strptime(\"2018-09-23 07:34:15\", fmt)\n",
    "print(\"hola\")\n",
    "print(fecha )"
   ]
  }
 ],
 "metadata": {
  "kernelspec": {
   "display_name": "Python 3",
   "language": "python",
   "name": "python3"
  },
  "language_info": {
   "codemirror_mode": {
    "name": "ipython",
    "version": 3
   },
   "file_extension": ".py",
   "mimetype": "text/x-python",
   "name": "python",
   "nbconvert_exporter": "python",
   "pygments_lexer": "ipython3",
   "version": "3.7.4"
  },
  "pycharm": {
   "stem_cell": {
    "cell_type": "raw",
    "metadata": {
     "collapsed": false
    },
    "source": []
   }
  }
 },
 "nbformat": 4,
 "nbformat_minor": 1
}
