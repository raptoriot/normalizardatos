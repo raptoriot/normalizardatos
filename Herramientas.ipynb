{
 "cells": [
  {
   "cell_type": "code",
   "execution_count": null,
   "metadata": {
    "collapsed": true
   },
   "outputs": [],
   "source": []
  },
  {
   "cell_type": "markdown",
   "source": [
    "\n",
    "vamos a crear la tabla con datos reparados, en el primer paso vamos a verificar si existe la tabla\n",
    "de lo contrari la vamos a crear a"
   ],
   "metadata": {
    "collapsed": false
   }
  },
  {
   "cell_type": "code",
   "execution_count": 5,
   "outputs": [
    {
     "name": "stdout",
     "text": [
      "camiones_reg\ncargador_reg\npesometroreparado2\npesometroreparado3\npesometros\nturnos_pesometros\n \ncamiones_reg\ncargador_reg\npesometroreparado2\npesometroreparado3\ntabla existe\npesometros\nturnos_pesometros\n"
     ],
     "output_type": "stream"
    }
   ],
   "source": [
    "import mysql.connector\n",
    "import time\n",
    "import matplotlib.pyplot as plt\n",
    "from matplotlib.dates import DateFormatter\n",
    "\n",
    "db = mysql.connector.connect(host=\"35.198.8.176\",user=\"alvarov\",passwd=\"lata5comprar\",db=\"bsa_loblanco\",charset = \"utf8\" )        # el nombre de la base de datos\n",
    "#analisisBDInaplast\n",
    "cur = db.cursor()\n",
    "tablas=[]\n",
    "consulta=\"SHOW TABLES\"\n",
    "cur.execute(consulta)\n",
    "for row in cur.fetchall():\n",
    "    print (str(row[0]))\n",
    "    tablas.append(row[0])\n",
    "print (\" \")\n",
    "\n",
    "tablanueva=False\n",
    "for i in tablas:\n",
    "    print(i)\n",
    "    if i==\"pesometroreparado3\":\n",
    "        print(\"tabla existe\")\n",
    "        tablanueva=True\n",
    "\n",
    "if  not tablanueva:\n",
    "    print (\"se va a crear tabla\")\n",
    "    consulta=\"CREATE TABLE `pesometroreparado3` (`id` int NOT NULL AUTO_INCREMENT PRIMARY KEY,`hora` datetime NOT NULL,`acc1` int NULL,`acc2` int NULL,`acc3` int NULL);\"\n",
    "    #cur.execute(consulta)\n"
   ],
   "metadata": {
    "collapsed": false,
    "pycharm": {
     "name": "#%%\n",
     "is_executing": false
    }
   }
  },
  {
   "cell_type": "markdown",
   "source": [
    "ahora vamos a describir la tabla pesometroreparado"
   ],
   "metadata": {
    "collapsed": false
   }
  },
  {
   "cell_type": "code",
   "execution_count": null,
   "outputs": [],
   "source": [
    "consulta=\"DESCRIBE pesometroreparado3\"\n",
    "cur.execute(consulta)\n",
    "for row in cur.fetchall():\n",
    "    print (str(row[0]))\n",
    "print (\" \")\n",
    "\n"
   ],
   "metadata": {
    "collapsed": false,
    "pycharm": {
     "name": "#%%\n"
    }
   }
  },
  {
   "cell_type": "markdown",
   "source": [
    "vamos a insertar un resgistro para probar\n"
   ],
   "metadata": {
    "collapsed": false
   }
  },
  {
   "cell_type": "code",
   "execution_count": null,
   "outputs": [],
   "source": [
    "\n",
    "consulta=\"INSERT INTO `pesometroreparado2` (`hora`, `acc1`, `acc2`, `acc3`)VALUES ('2019-05-18 18:25', '652', '147', NULL);\"\n",
    "cur.execute(consulta)\n",
    "db.commit()\n"
   ],
   "metadata": {
    "collapsed": false,
    "pycharm": {
     "name": "#%%\n"
    }
   }
  },
  {
   "cell_type": "markdown",
   "source": [
    "revisar registro anterior\n",
    "\n"
   ],
   "metadata": {
    "collapsed": false
   }
  },
  {
   "cell_type": "code",
   "execution_count": null,
   "outputs": [],
   "source": [
    "consulta=\"SELECT * FROM `pesometroreparado2` LIMIT 5000 \"\n",
    "cur.execute(consulta)\n",
    "for row in cur.fetchall():\n",
    "    print (str(row[0])+\"  \"+ str(row[1])+\"  \" + str(row[2])+\"  \"+str(row[3])           )\n",
    "print (\" fin\")\n"
   ],
   "metadata": {
    "collapsed": false,
    "pycharm": {
     "name": "#%%\n"
    }
   }
  },
  {
   "cell_type": "code",
   "execution_count": 4,
   "outputs": [
    {
     "name": "stdout",
     "text": [
      " termino de borrar\n"
     ],
     "output_type": "stream"
    }
   ],
   "source": [
    "#borra tabla\n",
    "import mysql.connector\n",
    "import time\n",
    "import matplotlib.pyplot as plt\n",
    "from matplotlib.dates import DateFormatter\n",
    "\n",
    "db = mysql.connector.connect(host=\"35.198.8.176\",user=\"alvarov\",passwd=\"lata5comprar\",db=\"bsa_loblanco\",charset = \"utf8\" )        # el nombre de la base de datos\n",
    "#analisisBDInaplast\n",
    "cur = db.cursor()\n",
    "consulta=\"DROP TABLE `prueba3`;\"\n",
    "cur.execute(consulta)\n",
    "\n",
    "print (\" termino de borrar\")"
   ],
   "metadata": {
    "collapsed": false,
    "pycharm": {
     "name": "#%%\n",
     "is_executing": false
    }
   }
  }
 ],
 "metadata": {
  "language_info": {
   "codemirror_mode": {
    "name": "ipython",
    "version": 2
   },
   "file_extension": ".py",
   "mimetype": "text/x-python",
   "name": "python",
   "nbconvert_exporter": "python",
   "pygments_lexer": "ipython2",
   "version": "2.7.6"
  },
  "kernelspec": {
   "name": "pycharm-657533c",
   "language": "python",
   "display_name": "PyCharm (PesometroLB)"
  },
  "pycharm": {
   "stem_cell": {
    "cell_type": "raw",
    "source": [],
    "metadata": {
     "collapsed": false
    }
   }
  }
 },
 "nbformat": 4,
 "nbformat_minor": 0
}